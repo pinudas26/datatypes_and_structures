{
  "nbformat": 4,
  "nbformat_minor": 0,
  "metadata": {
    "colab": {
      "provenance": []
    },
    "kernelspec": {
      "name": "python3",
      "display_name": "Python 3"
    },
    "language_info": {
      "name": "python"
    }
  },
  "cells": [
    {
      "cell_type": "code",
      "execution_count": null,
      "metadata": {
        "id": "j2KeVvIFEk3d"
      },
      "outputs": [],
      "source": []
    },
    {
      "cell_type": "markdown",
      "source": [
        "1)\tWhat are data structures, and why are they important?\n",
        "- Data structures are ways to organize and store data in a computer. They are important because they help make it easier to access, retrieve, and update data. Data structures are used in many programs and software systems.\n",
        "- Why are data structures important?\n",
        "  -> Problem solving: Data structures help you approach problems systematically and come up with efficient solutions.\n",
        "  -> Code reusability: Well-designed data structures can be used across multiple projects, which can save time and effort.\n",
        "  -> Program performance: Understanding data structures and algorithms (DSA) can help you write programs that run faster or use less memory.\n",
        "- Common data structures\n",
        "  - Arrays: A collection of data items of the same type, stored together in memory\n",
        "  - Linked lists: A collection of objects connected in a linear order\n",
        "  - Stacks: A linear data structure that follows the Last-In-First-Out (LIFO) principle\n",
        "  - Queues: A linear data structure that follows the First-In-First-Out (FIFO) principle\n",
        "  - Trees: A hierarchical structure with root and child nodes\n",
        "  - Hash tables: A data structure that stores keys/value pairs\n",
        "DSA is a core part of computer science education. It provides the fundamental principles that support many advanced topics in the field.\n",
        "\n",
        "2) Explain the difference between mutable and immutable data types with examples.\n",
        "- In mutable, The objects can be modified after the creation as well. But immutable data type, Objects cannot be modified after the creation of the objects.\n",
        "- Classes that are mutable are not considered final. \tClasses that are immutable are considered final.\n",
        "- In mutable, Thread unsafe. But immutable data type, Thread safe.\n",
        "- In mutable, Classes are not made final for the mutable objects.\tEx: Lists, Dicts, Sets, User-defined classes, Dictionaries etc. But immutable data type, Classes are made final for the immutable objects.\n",
        "Ex: int, float, bool, string, Unicode, tuple, Numbers etc.\n",
        "\n",
        "3) What are the main differences between lists and tuples in Python?\n",
        "- Mutability:\tMutable, meaning they can be changed Immutable meaning they cannot be changed.\n",
        "- Length:\tDynamic length.\tFixed length after definition.\n",
        "- Memory efficiency:\tUses more memory than tuples.\tUses less memory than lists.\n",
        "- Speed\tSlower than tuples\tFaster than lists.\n",
        "- Syntax:\tUses square brackets.\tUses round brackets or parentheses.\n",
        "\n",
        "4) Describe how dictionaries store data?\n",
        "- A Python dictionary is a data structure that stores the value in key: value pairs. Values in a dictionary can be of any data type and can be duplicated, whereas keys can not be repeated and must be immutable.\n",
        "Example: Here, The data is stored in key:value pairs in dictionaries, which makes it easier to find values.\n",
        "d = {1: 'Hello', 2: 'Good', 3: 'Morning'}\n",
        "print(d)\n",
        "Output\n",
        "{1: 'Hello', 2: 'Good', 3: 'Morning'}\n",
        "\n",
        "5) Why might you use a set instead of a list in Python?\n",
        "- The Python sets are highly useful to efficiently remove duplicate values from a collection like a list and to perform common math operations like unions and intersections.\n",
        "\n",
        "6) What is a string in Python, and how is it different from a list?\n",
        "- In Python, a string is a sequence of characters, while a list is a sequence of values. Strings are immutable, meaning they cannot be changed after they are created. Lists are mutable, meaning they can be changed after they are created.\n",
        "  - Definition: In String, Sequence of characters.In List, Sequence of values.\n",
        "  - Mutability: In string, Immutable and in lists, Mutable.\n",
        "  - Contents:In strings,Characters (strings). But in lists, It can contain\n",
        "  mixed data types\n",
        "  - Representation:In string, Enclosed in quotes ('' or “”). But in list,\n",
        "  Enclosed in square brackets.\n",
        "  - We can use the built-in len() function to find the length of a string or list.\n",
        "\n",
        "7) How do tuples ensure data integrity in Python?\n",
        "- Tuples are immutable to ensure that their contents remain constant throughout their lifecycle, guaranteeing data integrity and reliability. This immutability allows tuples to be used as keys in dictionaries and elements in sets, as they can be hashed.\n",
        "\n",
        "8) What is a hash table, and how does it relate to dictionaries in Python?\n",
        "- In Python, a hash table is a data structure that's implemented using dictionaries. Hash tables are a way to organize data into key-value pairs, which makes it easy to find and update information.\n",
        "- How do hash tables work?\n",
        "   -> A hash function generates a unique index for each key-value pair.\n",
        "   -> The index points to the location of the value in an array.\n",
        "   -> This allows for quick access to the value associated with a key.\n",
        "- How do hash tables relate to dictionaries in Python?\n",
        "   -> Python dictionaries are a built-in data type that use hash tables to store and access data.\n",
        "   -> The keys in a Python dictionary are hashable, which means they can be used as inputs to a hash function.\n",
        "   -> The hash function generates a unique index for each key, which allows the dictionary to quickly find and update the associated value.\n",
        "\n",
        "9) Can lists contain different data types in Python?\n",
        "- Lists can contain items of different types at the same time (including strings, integers, floating point numbers and boolean values). Lists are mutable and dynamic; list items can be added, removed or changed after the list is defined.\n",
        "\n",
        "10) Explain why strings are immutable in Python?\n",
        "- Strings in Python are “immutable” which means they can not be changed after they are created. Some other immutable data types are integers, float, boolean, etc. The immutability of Python string is very useful as it helps in hashing, performance optimization, safety, ease of use, etc.\n",
        "\n",
        "11) What advantages do dictionaries offer over lists for certain tasks?\n",
        "- Dictionaries are better than lists for tasks that involve frequent lookups or searches because they are faster. Dictionaries are also more flexible and memory efficient than lists.\n",
        "- Advantages of dictionaries\n",
        "  - Fast lookups: Dictionaries use a hash table to store key-value pairs, which allows for quick lookups.\n",
        "  - Flexible: Dictionaries can store any type of data as both the key and the value.\n",
        "  - Memory efficient: Dictionaries only store the key-value pairs that are needed.\n",
        "  - Well-suited for complex data: Dictionaries can store complex data structures such as graphs and databases.\n",
        "\n",
        "12) Describe a scenario where using a tuple would be preferable over a list.\n",
        "- The advantages of tuples over the lists are as follows: Tuples are faster than lists. Tuples make the code safe from any accidental modification. If a data is needed in a program which is not supposed to be changed, then it is better to put it in 'tuples' than in 'list'.\n",
        "\n",
        "13) How do sets handle duplicate values in Python?\n",
        "- Items of a set in python are immutable (unchangeable), do not duplicate values, and unordered. Thus, items in a set do not appear in a stipulated manner, i.e., they can appear in a different order every time it is used. Due to this, set items cannot be referred to by key or index.\n",
        "\n",
        "14) How does the “in” keyword work differently for lists and dictionaries?\n",
        "- The in and not in operator works on dictionaries; it tells you whether something appears or not as a key in the dictionary. It returns two values True or False.\n",
        "- The in operator uses different algorithms for lists and dictionaries. For lists, it uses a search algorithm. As the list gets longer, the search time gets longer in direct proportion. For dictionaries, Python uses an algorithm called a hashtable that has a remarkable property: the in operator takes about the same amount of time no matter how many items there are in a dictionary.\n",
        "\n",
        "15) Can you modify the elements of a tuple? Explain why or why not?\n",
        "- No, we cannot modify the elements of a tuple in Python because tuples are immutable. This means that once a tuple is created, its elements cannot be changed, added, or removed.\n",
        "- Explanation\n",
        "  - Tuples are similar to lists, but unlike lists, tuples are immutable.\n",
        "  - Tuples are more memory-efficient compared to lists.\n",
        "  - If we attempt to alter a tuple element, you will receive a TypeError error.\n",
        "  - However, if the element is a changeable data type, such as a list, its nested components can be altered.\n",
        "  - We can concatenate 2 or more tuples to form a new tuple.\n",
        "  - We can convert the tuple into a list, change the list, and convert the list back into a tuple.\n",
        "  Example\n",
        "   If we try to modify one of the elements of the tuple, we get an error.\n",
        "   \n",
        "    \n",
        "\n",
        "\n"
      ],
      "metadata": {
        "id": "6fCFhJdsEv3y"
      }
    },
    {
      "cell_type": "code",
      "source": [
        "t = ('a', 'b', 'c', 'd', 'e') t[0] = 'A' print(t) #TypeError: object doesn't support item assignment"
      ],
      "metadata": {
        "id": "DPsPuAYiQ8vH"
      },
      "execution_count": null,
      "outputs": []
    },
    {
      "cell_type": "markdown",
      "source": [
        "16) What is a nested dictionary, and give an example of its use case?\n",
        "- A nested dictionary is a dictionary that is stored within another dictionary. It's a way to organize data into multiple layers.\n",
        "- Example\n",
        "  - An organizational chart can be represented using a nested dictionary, where departments are keys and the values are dictionaries of employees in each department.\n",
        "  - An inventory system can use a nested dictionary to track product categories, subcategories, and individual products.\n",
        "\n",
        "17) Describe the time complexity of accessing elements in a dictionary.\n",
        "- The time complexity of accessing an element in a dictionary is typically O(1), which means it takes constant time to search for a value. However, the time complexity can degrade to O(n) in the worst case.\n",
        "- Explanation\n",
        "  - The time complexity of dictionary operations depends on the size of the dictionary and the specific operation.\n",
        "  - The worst-case complexity occurs when all elements are in a single hash bucket.\n",
        "  - Hash collisions in dictionaries can degrade O(1) operations to O(n).\n",
        "\n",
        "18) In what situations are lists preferred over dictionaries?\n",
        "- For quick data look-ups, configurations, or caches, favor dictionaries. For ordered collections and sequence operations, such as maintaining a stack or queue, lists are more suitable.\n",
        "\n",
        "19) Why are dictionaries considered unordered, and how does that affect data retrieval?\n",
        "- Dictionaries are considered unordered because they don't maintain the order in which items are added. This is because dictionaries are optimized for fast lookups based on keys.\n",
        "- Explanation\n",
        "  - In older versions of Python (before 3.7), dictionaries didn't preserve the order of items.\n",
        "  - In Python 3.7 and later, dictionaries retain the order of items, but they are still called \"unordered\".\n",
        "  - Dictionaries are unordered because they are not intended to be used as ordered collections like lists or tuples.\n",
        "  - Dictionaries are optimized for fast storage and recovery based on key.\n",
        "  - Dictionaries are a data structure that holds key-value pairs.\n",
        "  - Dictionaries are mutable, meaning you can change the key-value pair after creating the dictionary.\n",
        "  - How does this affect data retrieval?\n",
        "    - Because dictionaries are unordered, we can't refer to an item by using an index.\n",
        " - When we loop through a dictionary, we will go through every key, but we are not guaranteed to get them in any particular order.\n",
        "\n",
        "20) Explain the difference between a list and a dictionary in terms of data retrieval?\n",
        "- In Python, lists are accessed using indices, while dictionaries are accessed using keys. Lists are faster for ordered operations, while dictionaries are faster for lookups.\n",
        "- In List, Data structure is Ordered collection of items.\n",
        "- In List, Access is use indices to access elements.\n",
        "- In List, Use case is Good for ordered collections, like sequences of user actions.\n",
        "- In List, Speed is Slower for large datasets.\n",
        "- In Dictionary, Data structure is Unordered collection of key-value pairs.\n",
        "- In Dictionary, Use keys to access elements.\n",
        "- In Dictionary, Good for quick lookups, like mapping usernames to user data.\n",
        "- In Dictionary, Speed is Faster for lookups.\n",
        "\n",
        "\n",
        "\n",
        "\n",
        "\n",
        "\n",
        "\n",
        "\n",
        "\n"
      ],
      "metadata": {
        "id": "UHtIO0KYF7IU"
      }
    },
    {
      "cell_type": "markdown",
      "source": [
        "\n",
        "**Practical Questions**\n",
        "\n",
        "1) Write a code to create a string with your name and print it.\n"
      ],
      "metadata": {
        "id": "IVKEbG74VCWT"
      }
    },
    {
      "cell_type": "code",
      "source": [
        "# create string type variables\n",
        "\n",
        "name = \"Nivedita\"\n",
        "print(name)"
      ],
      "metadata": {
        "colab": {
          "base_uri": "https://localhost:8080/"
        },
        "id": "vlQazvmYVAiq",
        "outputId": "d729619f-1208-4b41-ed45-00918bc77b00"
      },
      "execution_count": null,
      "outputs": [
        {
          "output_type": "stream",
          "name": "stdout",
          "text": [
            "Nivedita\n"
          ]
        }
      ]
    },
    {
      "cell_type": "markdown",
      "source": [
        "2) Write a code to find the length of the string \"Hello World\"."
      ],
      "metadata": {
        "id": "Fd2kSemLVgrU"
      }
    },
    {
      "cell_type": "code",
      "source": [
        "a = \"Hello World\"\n",
        "print(len(a))"
      ],
      "metadata": {
        "colab": {
          "base_uri": "https://localhost:8080/"
        },
        "id": "jv73j9nCUmhl",
        "outputId": "a78d1ba4-424d-48d1-c735-01726a2be279"
      },
      "execution_count": null,
      "outputs": [
        {
          "output_type": "stream",
          "name": "stdout",
          "text": [
            "11\n"
          ]
        }
      ]
    },
    {
      "cell_type": "markdown",
      "source": [
        "3) Write a code to slice the first 3 characters from the string \"Python Programming\"."
      ],
      "metadata": {
        "id": "99CHfHRFWOeM"
      }
    },
    {
      "cell_type": "code",
      "source": [
        "s = \"Hi, Bhubaneswar!\"\n",
        "\n",
        "# Slice string from index 0 to index 5 (exclusive)\n",
        "s2 = s[0:2]\n",
        "\n",
        "print(s2)"
      ],
      "metadata": {
        "colab": {
          "base_uri": "https://localhost:8080/"
        },
        "id": "uEAbW1OhWc0p",
        "outputId": "00b0b115-9242-41e7-9865-1923b530cee4"
      },
      "execution_count": null,
      "outputs": [
        {
          "output_type": "stream",
          "name": "stdout",
          "text": [
            "Hi\n"
          ]
        }
      ]
    },
    {
      "cell_type": "markdown",
      "source": [
        "4) Write a code to convert the string \"hello\" to uppercase."
      ],
      "metadata": {
        "id": "aHsXBb_HW2TB"
      }
    },
    {
      "cell_type": "code",
      "source": [
        "s = \"learn python!\"\n",
        "res = s.upper()\n",
        "print(res)"
      ],
      "metadata": {
        "colab": {
          "base_uri": "https://localhost:8080/"
        },
        "id": "VqZJg8ijXJ4l",
        "outputId": "8ea91b16-8f08-4505-b2dd-e3e7226307a5"
      },
      "execution_count": null,
      "outputs": [
        {
          "output_type": "stream",
          "name": "stdout",
          "text": [
            "LEARN PYTHON!\n"
          ]
        }
      ]
    },
    {
      "cell_type": "markdown",
      "source": [
        "5) Write a code to replace the word \"apple\" with \"orange\" in the string \"I like apple\"."
      ],
      "metadata": {
        "id": "nToetcw3Xbfh"
      }
    },
    {
      "cell_type": "code",
      "source": [
        " a = 'I like apple.'\n",
        "# Replace only the first occurrence of 'apples'\n",
        " b = a .replace('apple', 'orange', 1)\n",
        " print(b)\n"
      ],
      "metadata": {
        "colab": {
          "base_uri": "https://localhost:8080/"
        },
        "id": "pAzz6tt0XtM6",
        "outputId": "14912057-e4c0-44b7-e27f-f1925a06f4e3"
      },
      "execution_count": null,
      "outputs": [
        {
          "output_type": "stream",
          "name": "stdout",
          "text": [
            "I like orange.\n"
          ]
        }
      ]
    },
    {
      "cell_type": "markdown",
      "source": [
        "6) Write a code to create a list with numbers 1 to 5 and print it."
      ],
      "metadata": {
        "id": "Apc6zFbObx48"
      }
    },
    {
      "cell_type": "code",
      "source": [
        "number = 1\n",
        "\n",
        "while number <= 5:\n",
        "     print (number)\n",
        "     number += 1"
      ],
      "metadata": {
        "colab": {
          "base_uri": "https://localhost:8080/"
        },
        "id": "JOOvjvJSbgJc",
        "outputId": "944d99c7-3e6b-499c-c25a-6c584871511b"
      },
      "execution_count": null,
      "outputs": [
        {
          "output_type": "stream",
          "name": "stdout",
          "text": [
            "1\n",
            "2\n",
            "3\n",
            "4\n",
            "5\n"
          ]
        }
      ]
    },
    {
      "cell_type": "markdown",
      "source": [
        "7) Write a code to append the number 10 to the list [1, 2, 3, 4]."
      ],
      "metadata": {
        "id": "glIg3tl_d_qZ"
      }
    },
    {
      "cell_type": "code",
      "source": [
        "num_list = [1, 2, 3, 4]\n",
        "\n",
        "print(f'Current Numbers in List {num_list}')\n",
        "\n",
        "num_list.append(10)\n",
        "\n",
        "print(f'Updated Numbers in list {num_list}')"
      ],
      "metadata": {
        "colab": {
          "base_uri": "https://localhost:8080/"
        },
        "id": "punU5a1feFu-",
        "outputId": "492e6309-4dc3-4925-c0b0-e805cbc1dcd3"
      },
      "execution_count": null,
      "outputs": [
        {
          "output_type": "stream",
          "name": "stdout",
          "text": [
            "Current Numbers in List [1, 2, 3, 4]\n",
            "Updated Numbers in list [1, 2, 3, 4, 10]\n"
          ]
        }
      ]
    },
    {
      "cell_type": "markdown",
      "source": [
        "8) Write a code to remove the number 3 from the list [1, 2, 3, 4, 5]."
      ],
      "metadata": {
        "id": "2UclZbXjgdgB"
      }
    },
    {
      "cell_type": "code",
      "source": [
        "num_list = [1, 2, 3, 4,5]\n",
        "\n",
        "print(f'Current Numbers in List {num_list}')\n",
        "\n",
        "num_list.remove(3)\n",
        "\n",
        "print(f'Updated Numbers in list {num_list}')"
      ],
      "metadata": {
        "colab": {
          "base_uri": "https://localhost:8080/"
        },
        "id": "layUMN5wglqi",
        "outputId": "d0551f29-d83e-4716-e51d-30948912b79a"
      },
      "execution_count": null,
      "outputs": [
        {
          "output_type": "stream",
          "name": "stdout",
          "text": [
            "Current Numbers in List [1, 2, 3, 4, 5]\n",
            "Updated Numbers in list [1, 2, 4, 5]\n"
          ]
        }
      ]
    },
    {
      "cell_type": "markdown",
      "source": [
        "9) Write a code to access the second element in the list ['a', 'b', 'c', 'd']."
      ],
      "metadata": {
        "id": "dGFnTBdtgzkt"
      }
    },
    {
      "cell_type": "code",
      "source": [
        "n=['a', 'b', 'c', 'd']\n",
        "\n",
        "# List of indexes to access\n",
        "p = n[1]\n",
        "\n",
        "print(p)"
      ],
      "metadata": {
        "colab": {
          "base_uri": "https://localhost:8080/"
        },
        "id": "5v-mZ8cIg7h5",
        "outputId": "d5448053-780d-47a9-b824-bfed3d17efdf"
      },
      "execution_count": null,
      "outputs": [
        {
          "output_type": "stream",
          "name": "stdout",
          "text": [
            "b\n"
          ]
        }
      ]
    },
    {
      "cell_type": "markdown",
      "source": [
        "10) Write a code to reverse the list [10, 20, 30, 40, 50]."
      ],
      "metadata": {
        "id": "uCwxaqH_kJ-p"
      }
    },
    {
      "cell_type": "code",
      "source": [
        "a = [10, 20, 30, 40, 50]\n",
        "\n",
        "# Reverse the list in-place\n",
        "a.reverse()\n",
        "print(a)"
      ],
      "metadata": {
        "colab": {
          "base_uri": "https://localhost:8080/"
        },
        "id": "pPM83mUikWMy",
        "outputId": "8d85a8dc-aef8-417b-d254-a8b04556191c"
      },
      "execution_count": null,
      "outputs": [
        {
          "output_type": "stream",
          "name": "stdout",
          "text": [
            "[50, 40, 30, 20, 10]\n"
          ]
        }
      ]
    },
    {
      "cell_type": "markdown",
      "source": [
        "11) Write a code to create a tuple with the elements 100, 200, 300 and print it."
      ],
      "metadata": {
        "id": "U2Kq2rKOkdK1"
      }
    },
    {
      "cell_type": "code",
      "source": [
        "t = (100, 200, 300)\n",
        "\n",
        "# Use the 'format' method to insert the tuple 't' into the string and print the result\n",
        "print('This is a tuple {0}'.format(t))\n"
      ],
      "metadata": {
        "colab": {
          "base_uri": "https://localhost:8080/"
        },
        "id": "mmQLxP6_kmHj",
        "outputId": "a228f910-eb5f-4246-a556-36b761287cc1"
      },
      "execution_count": null,
      "outputs": [
        {
          "output_type": "stream",
          "name": "stdout",
          "text": [
            "This is a tuple (100, 200, 300)\n"
          ]
        }
      ]
    },
    {
      "cell_type": "markdown",
      "source": [
        "12) Write a code to access the second-to-last element of the tuple ('red', 'green', 'blue', 'yellow')."
      ],
      "metadata": {
        "id": "nzmINInqlFkU"
      }
    },
    {
      "cell_type": "code",
      "source": [
        "# Create a list called 'color_list' containing color names\n",
        "color_list = ['red', 'green', 'blue', 'yellow']\n",
        "# Print the first and last elements of the 'color_list' using string formatting\n",
        "# The '%s' placeholders are filled with the values of 'color_list[0]' (Red) and 'color_list[-1]' (Black)\n",
        "print(\"%s %s %s\" % (color_list[1], color_list[2], color_list[-1]))"
      ],
      "metadata": {
        "colab": {
          "base_uri": "https://localhost:8080/"
        },
        "id": "0kmQgYJylUF3",
        "outputId": "3f206f2d-c689-4899-e237-8c5e653a927a"
      },
      "execution_count": null,
      "outputs": [
        {
          "output_type": "stream",
          "name": "stdout",
          "text": [
            "green blue yellow\n"
          ]
        }
      ]
    },
    {
      "cell_type": "markdown",
      "source": [
        "13) Write a code to find the minimum number in the tuple (10, 20, 5, 15)."
      ],
      "metadata": {
        "id": "aD35IJswmGtD"
      }
    },
    {
      "cell_type": "code",
      "source": [
        "# Creating tuples\n",
        "Tuple = (10, 20, 5, 15)\n",
        "\n",
        "res = min(Tuple)\n",
        "print('Minimum of Tuple is', res)"
      ],
      "metadata": {
        "colab": {
          "base_uri": "https://localhost:8080/"
        },
        "id": "hSKkVIU4nGqo",
        "outputId": "d912635b-4844-4a67-ee1f-5460f789174a"
      },
      "execution_count": null,
      "outputs": [
        {
          "output_type": "stream",
          "name": "stdout",
          "text": [
            "Minimum of Tuple is 5\n"
          ]
        }
      ]
    },
    {
      "cell_type": "markdown",
      "source": [
        "14) Write a code to find the index of the element \"cat\" in the tuple ('dog', 'cat', 'rabbit')."
      ],
      "metadata": {
        "id": "nfyB7DsIn92x"
      }
    },
    {
      "cell_type": "code",
      "source": [
        "animals = ['dog', 'cat', 'rabbit']\n",
        "\n",
        "# get the index of 'cat'\n",
        "index = animals.index('cat')\n",
        "\n",
        "print(index)\n"
      ],
      "metadata": {
        "colab": {
          "base_uri": "https://localhost:8080/"
        },
        "id": "NBMy1SsxoKs5",
        "outputId": "2c5a2464-bd48-427a-ed4e-284cd52aeca9"
      },
      "execution_count": null,
      "outputs": [
        {
          "output_type": "stream",
          "name": "stdout",
          "text": [
            "1\n"
          ]
        }
      ]
    },
    {
      "cell_type": "markdown",
      "source": [
        "15)  Write a code to create a tuple containing three different fruits and check if \"kiwi\" is in it."
      ],
      "metadata": {
        "id": "Hx6w7-_zoebE"
      }
    },
    {
      "cell_type": "code",
      "source": [
        "thistuple = (\"apple\", \"banana\", \"cherry\", \"kiwi\")\n",
        "if \"kiwi\" in thistuple:\n",
        "  print(\"Yes, 'kiwi' is in the fruits tuple\")\n"
      ],
      "metadata": {
        "colab": {
          "base_uri": "https://localhost:8080/"
        },
        "id": "JO4UQuqmooiz",
        "outputId": "e6c2484e-598b-49bd-a9b2-4a55052a1700"
      },
      "execution_count": null,
      "outputs": [
        {
          "output_type": "stream",
          "name": "stdout",
          "text": [
            "Yes, 'kiwi' is in the fruits tuple\n"
          ]
        }
      ]
    },
    {
      "cell_type": "markdown",
      "source": [
        "16) Write a code to create a set with the elements 'a', 'b', 'c' and print it."
      ],
      "metadata": {
        "id": "iB9k73kb6jn-"
      }
    },
    {
      "cell_type": "code",
      "source": [
        "My_Set={1,'n',2.3}\n",
        "print(My_Set)"
      ],
      "metadata": {
        "colab": {
          "base_uri": "https://localhost:8080/"
        },
        "id": "rY3GbrQb6ytC",
        "outputId": "38b61682-aeb6-45b0-84d1-bbbb9b2d095e"
      },
      "execution_count": 2,
      "outputs": [
        {
          "output_type": "stream",
          "name": "stdout",
          "text": [
            "{1, 2.3, 'n'}\n"
          ]
        }
      ]
    },
    {
      "cell_type": "markdown",
      "source": [
        "17) Write a code to clear all elements from the set {1, 2, 3, 4, 5}."
      ],
      "metadata": {
        "id": "rrnlYshk7F2S"
      }
    },
    {
      "cell_type": "code",
      "source": [
        "my_set = {1, 2, 3, 4, 5}\n",
        "my_set.clear()\n",
        "print(my_set)"
      ],
      "metadata": {
        "colab": {
          "base_uri": "https://localhost:8080/"
        },
        "id": "RIDfDXDh7OYS",
        "outputId": "eec41ae7-970e-4c05-97eb-565be47ee52c"
      },
      "execution_count": 7,
      "outputs": [
        {
          "output_type": "stream",
          "name": "stdout",
          "text": [
            "set()\n"
          ]
        }
      ]
    },
    {
      "cell_type": "markdown",
      "source": [
        "18)  Write a code to remove the element 4 from the set {1, 2, 3, 4}."
      ],
      "metadata": {
        "id": "BP5xB8Eu8-90"
      }
    },
    {
      "cell_type": "code",
      "source": [
        "# initializing set\n",
        "test_set = {1, 2, 3, 4}\n",
        "\n",
        "# printing original set\n",
        "print(\"The original set is : \" + str(test_set))\n",
        "\n",
        "# initializing remove elements\n",
        "rem_ele = [4]\n",
        "\n",
        "# using \"-\" operator to remove multiple elements\n",
        "res = test_set - set(rem_ele)\n",
        "\n",
        "# printing result\n",
        "print(\"Set after removal : \" + str(res))"
      ],
      "metadata": {
        "colab": {
          "base_uri": "https://localhost:8080/"
        },
        "id": "t6xw9i5D9Fpu",
        "outputId": "ddcdc716-5f93-4302-c8c1-c6f6a8aa0124"
      },
      "execution_count": 8,
      "outputs": [
        {
          "output_type": "stream",
          "name": "stdout",
          "text": [
            "The original set is : {1, 2, 3, 4}\n",
            "Set after removal : {1, 2, 3}\n"
          ]
        }
      ]
    },
    {
      "cell_type": "markdown",
      "source": [
        "19) Write a code to find the union of two sets {1, 2, 3} and {3, 4, 5}."
      ],
      "metadata": {
        "id": "X-JyqNvu9dxW"
      }
    },
    {
      "cell_type": "code",
      "source": [
        "A = {1, 2, 3}\n",
        "B = {3, 4, 5}\n",
        "\n",
        "print(\"A U B:\", A.union(B))"
      ],
      "metadata": {
        "colab": {
          "base_uri": "https://localhost:8080/"
        },
        "id": "Y6ntz_8O9p2E",
        "outputId": "313a6e30-bda0-4e7b-e17d-fa9741813204"
      },
      "execution_count": 9,
      "outputs": [
        {
          "output_type": "stream",
          "name": "stdout",
          "text": [
            "A U B: {1, 2, 3, 4, 5}\n"
          ]
        }
      ]
    },
    {
      "cell_type": "markdown",
      "source": [
        "20)  Write a code to find the intersection of two sets {1, 2, 3} and {2, 3, 4}."
      ],
      "metadata": {
        "id": "VWX4cqln95mc"
      }
    },
    {
      "cell_type": "code",
      "source": [
        "s1 = {1, 2, 3}\n",
        "s2 = {2, 3, 4}\n",
        "print(s1.intersection(s2))"
      ],
      "metadata": {
        "colab": {
          "base_uri": "https://localhost:8080/"
        },
        "id": "MZGxMjV3-Cln",
        "outputId": "f3f462f8-b9e9-437d-93c4-d581823fc012"
      },
      "execution_count": 10,
      "outputs": [
        {
          "output_type": "stream",
          "name": "stdout",
          "text": [
            "{2, 3}\n"
          ]
        }
      ]
    },
    {
      "cell_type": "markdown",
      "source": [
        "21)  Write a code to create a dictionary with the keys \"name\", \"age\", and \"city\", and print it."
      ],
      "metadata": {
        "id": "Sr99Gz9p-WLU"
      }
    },
    {
      "cell_type": "code",
      "source": [
        "sample_dict = {'name': 'Pinu', 'age': 32, 'city': 'Bhubaneswar'}\n",
        "\n",
        "# Using the keys() method\n",
        "keys_list = list(sample_dict.keys())\n",
        "\n",
        "# Printing the keys\n",
        "print(keys_list)"
      ],
      "metadata": {
        "colab": {
          "base_uri": "https://localhost:8080/"
        },
        "id": "JRah6RjK-jWC",
        "outputId": "08fd7e3d-0dc1-45c4-ead1-900374462c0d"
      },
      "execution_count": 13,
      "outputs": [
        {
          "output_type": "stream",
          "name": "stdout",
          "text": [
            "['name', 'age', 'city']\n"
          ]
        }
      ]
    },
    {
      "cell_type": "markdown",
      "source": [
        "22)  Write a code to add a new key-value pair \"country\": \"USA\" to the dictionary {'name': 'John', 'age': 25}."
      ],
      "metadata": {
        "id": "ReXB7ssx_kBN"
      }
    },
    {
      "cell_type": "code",
      "source": [
        "my_dict = { 'name': 'John', 'age': 25 }\n",
        "# Add a new key-value pair\n",
        "my_dict['country'] = 'USA'\n",
        "# The dictionary now contains the new key-value pair\n",
        "print(my_dict)"
      ],
      "metadata": {
        "colab": {
          "base_uri": "https://localhost:8080/"
        },
        "id": "oOnrTax2_v7a",
        "outputId": "c5468ca5-dd8b-42b0-90b0-1e7a7e08290a"
      },
      "execution_count": 19,
      "outputs": [
        {
          "output_type": "stream",
          "name": "stdout",
          "text": [
            "{'name': 'John', 'age': 25, 'country': 'USA'}\n"
          ]
        }
      ]
    },
    {
      "cell_type": "markdown",
      "source": [
        "23) Write a code to access the value associated with the key \"name\" in the dictionary {'name': 'Alice', 'age': 30}."
      ],
      "metadata": {
        "id": "W6gnB615A0in"
      }
    },
    {
      "cell_type": "code",
      "source": [
        "my_dict = {'name': 'Alice', 'age': 30 }\n",
        "\n",
        "values_of_interest = [my_dict[key] for key in ['name']]\n",
        "\n",
        "print(values_of_interest)\n",
        "\n"
      ],
      "metadata": {
        "colab": {
          "base_uri": "https://localhost:8080/"
        },
        "id": "8qRRZ9uXA7jz",
        "outputId": "9ffed38d-d5bc-4f9b-f04f-232ef9cd1dc4"
      },
      "execution_count": 24,
      "outputs": [
        {
          "output_type": "stream",
          "name": "stdout",
          "text": [
            "['Alice']\n"
          ]
        }
      ]
    },
    {
      "cell_type": "markdown",
      "source": [
        "24) Write a code to remove the key \"age\" from the dictionary {'name': 'Bob', 'age': 22, 'city': 'New York'}."
      ],
      "metadata": {
        "id": "OmEPsQxYB72E"
      }
    },
    {
      "cell_type": "code",
      "source": [
        "my_dict = { 'name': 'Bob', 'age': 22, 'city': 'New York' }\n",
        "\n",
        "del my_dict['age']\n",
        "\n",
        "print(my_dict)"
      ],
      "metadata": {
        "colab": {
          "base_uri": "https://localhost:8080/"
        },
        "id": "ldNWmNx3B-Os",
        "outputId": "ce7a57d8-997c-406c-dcad-604371025217"
      },
      "execution_count": 26,
      "outputs": [
        {
          "output_type": "stream",
          "name": "stdout",
          "text": [
            "{'name': 'Bob', 'city': 'New York'}\n"
          ]
        }
      ]
    },
    {
      "cell_type": "markdown",
      "source": [
        "25) Write a code to check if the key \"city\" exists in the dictionary {'name': 'Alice', 'city': 'Paris'}."
      ],
      "metadata": {
        "id": "zGMqE1qYF8LG"
      }
    },
    {
      "cell_type": "code",
      "source": [
        "my_dict = {'name': 'Alice', 'city': 'Paris'}\n",
        "\n",
        "if \"city\" in my_dict:\n",
        "    print(\"Key exists.\")\n",
        "else:\n",
        "    print(\"Key does not exist.\")"
      ],
      "metadata": {
        "colab": {
          "base_uri": "https://localhost:8080/"
        },
        "id": "TygqqMKUGJuH",
        "outputId": "b9e1605f-a713-4c63-e63b-b8165d764d6d"
      },
      "execution_count": 32,
      "outputs": [
        {
          "output_type": "stream",
          "name": "stdout",
          "text": [
            "Key exists.\n"
          ]
        }
      ]
    },
    {
      "cell_type": "markdown",
      "source": [
        "26)  Write a code to create a list, a tuple, and a dictionary, and print them all."
      ],
      "metadata": {
        "id": "JhevXchqJi-G"
      }
    },
    {
      "cell_type": "code",
      "source": [
        "# Create a list\n",
        "list = [1, 2, 3, 4, 5]\n",
        "print(\"List is:\", list)\n",
        "\n",
        "# Create a tuple\n",
        "numbers = (1, 2, -5)\n",
        "print(\"Tuple is:\", numbers)\n",
        "\n",
        "#Create a dictionary\n",
        "d = dict(a=1, b=2, c=3)\n",
        "print(\"The dictionary is:\", d)\n",
        "\n"
      ],
      "metadata": {
        "colab": {
          "base_uri": "https://localhost:8080/"
        },
        "id": "e70WDdJsJu79",
        "outputId": "b8aec50f-3ce5-41b0-8aa2-a4eac8689dd3"
      },
      "execution_count": 40,
      "outputs": [
        {
          "output_type": "stream",
          "name": "stdout",
          "text": [
            "List is: [1, 2, 3, 4, 5]\n",
            "Tuple is: (1, 2, -5)\n",
            "The dictionary is: {'a': 1, 'b': 2, 'c': 3}\n"
          ]
        }
      ]
    },
    {
      "cell_type": "markdown",
      "source": [
        "27) Write a code to create a list of 5 random numbers between 1 and 100, sort it in ascending order, and print the result.(replaced)"
      ],
      "metadata": {
        "id": "AwdLxD15L7gg"
      }
    },
    {
      "cell_type": "code",
      "source": [
        "import random\n",
        "\n",
        "# Generate a list of unique random numbers\n",
        "n = 5  # Number of random numbers\n",
        "li = random.sample(range(1, 101), n)\n",
        "\n",
        "print(\"List of 5 random mumbers between 1 and 100:\", li)\n",
        "\n",
        "# sort it in ascending order\n",
        "li.sort()\n",
        "print(\"The ascending order list:\",li)\n"
      ],
      "metadata": {
        "colab": {
          "base_uri": "https://localhost:8080/"
        },
        "id": "HpvIKYGMMU1b",
        "outputId": "1469c947-7337-48dd-d083-a8e592e95c45"
      },
      "execution_count": 45,
      "outputs": [
        {
          "output_type": "stream",
          "name": "stdout",
          "text": [
            "List of 5 random mumbers between 1 and 100: [17, 90, 62, 83, 66]\n",
            "The ascending order list: [17, 62, 66, 83, 90]\n"
          ]
        }
      ]
    },
    {
      "cell_type": "markdown",
      "source": [
        "28) Write a code to create a list with strings and print the element at the third index."
      ],
      "metadata": {
        "id": "R42KdSnFOvzk"
      }
    },
    {
      "cell_type": "code",
      "source": [
        "# List of strings\n",
        "b = ['apple', 'banana', 'cherry']\n",
        "print(\"List with strings:\",b)\n",
        "# The element at the third index\n",
        "print(\"The element at the third index:\",b[2])\n"
      ],
      "metadata": {
        "colab": {
          "base_uri": "https://localhost:8080/"
        },
        "id": "bvhmbfmMOyX8",
        "outputId": "010791a9-6398-4587-ffc4-c93913522f34"
      },
      "execution_count": 57,
      "outputs": [
        {
          "output_type": "stream",
          "name": "stdout",
          "text": [
            "List with strings: ['apple', 'banana', 'cherry']\n",
            "The element at the third index: cherry\n"
          ]
        }
      ]
    },
    {
      "cell_type": "markdown",
      "source": [
        "29) Write a code to combine two dictionaries into one and print the result."
      ],
      "metadata": {
        "id": "BD_1aWQIQ-1D"
      }
    },
    {
      "cell_type": "code",
      "source": [
        "dict1 = {1: 'One', 2: 'Two', 3: 'Three'}\n",
        "dict2 = {3: 'Zero', 4: 'Four'}\n",
        "\n",
        "print('Combined dictionary:', dict1|dict2)"
      ],
      "metadata": {
        "colab": {
          "base_uri": "https://localhost:8080/"
        },
        "id": "NRu6aT8ARD-Q",
        "outputId": "660f15ac-88b9-43e8-cc22-f42b7fbadb2e"
      },
      "execution_count": 59,
      "outputs": [
        {
          "output_type": "stream",
          "name": "stdout",
          "text": [
            "Combined dictionary: {1: 'One', 2: 'Two', 3: 'Zero', 4: 'Four'}\n"
          ]
        }
      ]
    },
    {
      "cell_type": "markdown",
      "source": [
        "30)  Write a code to convert a list of strings into a set."
      ],
      "metadata": {
        "id": "jW90qhlDRcGb"
      }
    },
    {
      "cell_type": "code",
      "source": [
        "s = \"Hello Python\"\n",
        "\n",
        "print(type(s))\n",
        "print(s)\n",
        "\n",
        "# Convert String to Set\n",
        "set_s = set(s)\n",
        "\n",
        "print(type(set_s))\n",
        "print(set_s)"
      ],
      "metadata": {
        "colab": {
          "base_uri": "https://localhost:8080/"
        },
        "id": "BEAxFeXORhiE",
        "outputId": "379455ea-6fdb-4f35-a005-7f121074ac0d"
      },
      "execution_count": 61,
      "outputs": [
        {
          "output_type": "stream",
          "name": "stdout",
          "text": [
            "<class 'str'>\n",
            "Hello Python\n",
            "<class 'set'>\n",
            "{'t', 'o', 'n', 'l', ' ', 'P', 'e', 'y', 'h', 'H'}\n"
          ]
        }
      ]
    }
  ]
}